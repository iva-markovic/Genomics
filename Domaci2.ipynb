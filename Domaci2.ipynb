{
  "nbformat": 4,
  "nbformat_minor": 0,
  "metadata": {
    "colab": {
      "provenance": []
    },
    "kernelspec": {
      "name": "python3",
      "display_name": "Python 3"
    },
    "language_info": {
      "name": "python"
    }
  },
  "cells": [
    {
      "cell_type": "code",
      "execution_count": 1,
      "metadata": {
        "id": "LdUdeapBPGer",
        "outputId": "97642768-643f-4029-86c2-33fa9135846a",
        "colab": {
          "base_uri": "https://localhost:8080/"
        }
      },
      "outputs": [
        {
          "output_type": "stream",
          "name": "stdout",
          "text": [
            "Collecting pysam\n",
            "  Downloading pysam-0.22.0-cp310-cp310-manylinux_2_28_x86_64.whl (21.9 MB)\n",
            "\u001b[2K     \u001b[90m━━━━━━━━━━━━━━━━━━━━━━━━━━━━━━━━━━━━━━━━\u001b[0m \u001b[32m21.9/21.9 MB\u001b[0m \u001b[31m39.3 MB/s\u001b[0m eta \u001b[36m0:00:00\u001b[0m\n",
            "\u001b[?25hInstalling collected packages: pysam\n",
            "Successfully installed pysam-0.22.0\n"
          ]
        }
      ],
      "source": [
        "pip install pysam"
      ]
    },
    {
      "cell_type": "code",
      "source": [
        "import pysam"
      ],
      "metadata": {
        "id": "RUNsWUPNPIlF"
      },
      "execution_count": 4,
      "outputs": []
    },
    {
      "cell_type": "code",
      "source": [
        "bamfile = pysam.AlignmentFile(\"merged-tumor.bam\", \"rb\")"
      ],
      "metadata": {
        "id": "Fv6WxqkAgCyt"
      },
      "execution_count": 5,
      "outputs": []
    },
    {
      "cell_type": "code",
      "source": [
        "!apt-get install samtools\n",
        "!samtools quickcheck merged-tumor.bam"
      ],
      "metadata": {
        "colab": {
          "base_uri": "https://localhost:8080/"
        },
        "id": "L1KBQtYshWFb",
        "outputId": "491c409c-9be5-4c4a-de0f-ef099982032f"
      },
      "execution_count": 6,
      "outputs": [
        {
          "output_type": "stream",
          "name": "stdout",
          "text": [
            "Reading package lists... Done\n",
            "Building dependency tree... Done\n",
            "Reading state information... Done\n",
            "The following additional packages will be installed:\n",
            "  libhts3 libhtscodecs2\n",
            "Suggested packages:\n",
            "  cwltool\n",
            "The following NEW packages will be installed:\n",
            "  libhts3 libhtscodecs2 samtools\n",
            "0 upgraded, 3 newly installed, 0 to remove and 45 not upgraded.\n",
            "Need to get 963 kB of archives.\n",
            "After this operation, 2,270 kB of additional disk space will be used.\n",
            "Get:1 http://archive.ubuntu.com/ubuntu jammy/universe amd64 libhtscodecs2 amd64 1.1.1-3 [53.2 kB]\n",
            "Get:2 http://archive.ubuntu.com/ubuntu jammy/universe amd64 libhts3 amd64 1.13+ds-2build1 [390 kB]\n",
            "Get:3 http://archive.ubuntu.com/ubuntu jammy/universe amd64 samtools amd64 1.13-4 [520 kB]\n",
            "Fetched 963 kB in 1s (1,863 kB/s)\n",
            "Selecting previously unselected package libhtscodecs2:amd64.\n",
            "(Reading database ... 121752 files and directories currently installed.)\n",
            "Preparing to unpack .../libhtscodecs2_1.1.1-3_amd64.deb ...\n",
            "Unpacking libhtscodecs2:amd64 (1.1.1-3) ...\n",
            "Selecting previously unselected package libhts3:amd64.\n",
            "Preparing to unpack .../libhts3_1.13+ds-2build1_amd64.deb ...\n",
            "Unpacking libhts3:amd64 (1.13+ds-2build1) ...\n",
            "Selecting previously unselected package samtools.\n",
            "Preparing to unpack .../samtools_1.13-4_amd64.deb ...\n",
            "Unpacking samtools (1.13-4) ...\n",
            "Setting up libhtscodecs2:amd64 (1.1.1-3) ...\n",
            "Setting up libhts3:amd64 (1.13+ds-2build1) ...\n",
            "Setting up samtools (1.13-4) ...\n",
            "Processing triggers for man-db (2.10.2-1) ...\n",
            "Processing triggers for libc-bin (2.35-0ubuntu3.4) ...\n",
            "/sbin/ldconfig.real: /usr/local/lib/libtbb.so.12 is not a symbolic link\n",
            "\n",
            "/sbin/ldconfig.real: /usr/local/lib/libtbbmalloc_proxy.so.2 is not a symbolic link\n",
            "\n",
            "/sbin/ldconfig.real: /usr/local/lib/libtbbbind_2_0.so.3 is not a symbolic link\n",
            "\n",
            "/sbin/ldconfig.real: /usr/local/lib/libtbbmalloc.so.2 is not a symbolic link\n",
            "\n",
            "/sbin/ldconfig.real: /usr/local/lib/libtbbbind_2_5.so.3 is not a symbolic link\n",
            "\n",
            "/sbin/ldconfig.real: /usr/local/lib/libtbbbind.so.3 is not a symbolic link\n",
            "\n"
          ]
        }
      ]
    },
    {
      "cell_type": "code",
      "source": [
        "fasta=pysam.AlignmentFile(\"merged-tumor.bam\")\n"
      ],
      "metadata": {
        "id": "cnwEbFfjiqY9"
      },
      "execution_count": 10,
      "outputs": []
    },
    {
      "cell_type": "code",
      "source": [
        "for read in fasta:\n",
        "  print(\"\\nFirst read\", read)\n",
        "  print(\"\\nFlag\", read.flag)\n",
        "  print(\"\\nQuery name\",read.query_name)\n",
        "  print(\"\\nReference name:\", fasta.get_reference_name(read.reference_id))\n",
        "  print(\"\\nReference length:\", read.reference_length)\n",
        "  print(\"\\nReference position:\", read.reference_start)\n",
        "  print(\"\\nMapping quality:\", read.mapping_quality)\n",
        "  print(\"\\nCIGAR string:\", read.cigarstring)\n",
        "  print(\"\\nQuery sequence:\", read.query_sequence)\n",
        "  print(\"\\nQuery quality scores:\", read.query_qualities)\n",
        "  print(\"\\nTags:\", read.tags)\n",
        "  break"
      ],
      "metadata": {
        "colab": {
          "base_uri": "https://localhost:8080/"
        },
        "id": "RiqrkC9JsU9_",
        "outputId": "d3e29d41-9162-4dbd-fd49-47e7e683722b"
      },
      "execution_count": 22,
      "outputs": [
        {
          "output_type": "stream",
          "name": "stdout",
          "text": [
            "\n",
            "First read D0RE2ACXX120401:8:2103:15745:123260\t163\t#20\t10942905\t54\t76M\t#20\t10942984\t155\tTGTTTTGCCCACTTACCCGCCTTCTTATCAGCTTTTCAAGTTGTCTTTTTTGATGAAACAGATGAAAAATTCTTAA\tarray('B', [28, 22, 27, 30, 30, 30, 38, 37, 37, 37, 31, 41, 35, 31, 29, 41, 38, 38, 32, 40, 37, 35, 33, 41, 36, 33, 31, 33, 42, 33, 41, 39, 36, 34, 34, 34, 41, 34, 36, 41, 33, 34, 41, 33, 41, 37, 35, 34, 34, 34, 34, 41, 33, 33, 41, 34, 35, 36, 41, 34, 40, 35, 33, 40, 33, 37, 36, 36, 36, 33, 34, 36, 32, 29, 31, 33])\t[('XA', 'Y,-28688930,76M,2;'), ('BD', 'NNNNNNNNNNNNNNNNNNNNNNNNNNNNNNNNNNNNNNNNNNNNNNNNNNNNNNNNNNNNNNNNNNNNNNNNNNNN'), ('MD', '76'), ('RG', '1'), ('BI', 'NNNNNNNNNNNNNNNNNNNNNNNNNNNNNNNNNNNNNNNNNNNNNNNNNNNNNNNNNNNNNNNNNNNNNNNNNNNN'), ('NM', 0), ('MQ', 60), ('AS', 76), ('XS', 70)]\n",
            "\n",
            "Flag 163\n",
            "\n",
            "Query name D0RE2ACXX120401:8:2103:15745:123260\n",
            "\n",
            "Reference name: 21\n",
            "\n",
            "Reference length: 76\n",
            "\n",
            "Reference position: 10942904\n",
            "\n",
            "Mapping quality: 54\n",
            "\n",
            "CIGAR string: 76M\n",
            "\n",
            "Query sequence: TGTTTTGCCCACTTACCCGCCTTCTTATCAGCTTTTCAAGTTGTCTTTTTTGATGAAACAGATGAAAAATTCTTAA\n",
            "\n",
            "Query quality scores: array('B', [28, 22, 27, 30, 30, 30, 38, 37, 37, 37, 31, 41, 35, 31, 29, 41, 38, 38, 32, 40, 37, 35, 33, 41, 36, 33, 31, 33, 42, 33, 41, 39, 36, 34, 34, 34, 41, 34, 36, 41, 33, 34, 41, 33, 41, 37, 35, 34, 34, 34, 34, 41, 33, 33, 41, 34, 35, 36, 41, 34, 40, 35, 33, 40, 33, 37, 36, 36, 36, 33, 34, 36, 32, 29, 31, 33])\n",
            "\n",
            "Tags: [('XA', 'Y,-28688930,76M,2;'), ('BD', 'NNNNNNNNNNNNNNNNNNNNNNNNNNNNNNNNNNNNNNNNNNNNNNNNNNNNNNNNNNNNNNNNNNNNNNNNNNNN'), ('MD', '76'), ('RG', '1'), ('BI', 'NNNNNNNNNNNNNNNNNNNNNNNNNNNNNNNNNNNNNNNNNNNNNNNNNNNNNNNNNNNNNNNNNNNNNNNNNNNN'), ('NM', 0), ('MQ', 60), ('AS', 76), ('XS', 70)]\n"
          ]
        }
      ]
    },
    {
      "cell_type": "code",
      "source": [
        "unmapped_reads = 0\n",
        "no_reads = 0\n",
        "zero_mq = 0\n",
        "mq_sum = 0\n",
        "non_zero_mq_count = 0\n",
        "non_zero_mq_sum = 0\n",
        "\n",
        "for read in fasta:\n",
        "  if read.is_unmapped:\n",
        "    unmapped_reads += 1\n",
        "\n",
        "  no_reads += 1\n",
        "\n",
        "  if read.mapping_quality == 0:\n",
        "    zero_mq += 1\n",
        "  else:\n",
        "    non_zero_mq_sum += read.mapping_quality\n",
        "    non_zero_mq_count += 1\n",
        "\n",
        "  mq_sum += read.mapping_quality\n",
        "\n",
        "avg_mq = mq_sum/no_reads\n",
        "non_zero_avg_mq = non_zero_mq_sum/non_zero_mq_count\n",
        "\n",
        "print(\"\\nHow many unmapped reads are in the file?\", unmapped_reads,\"\\nTotal number of reads\", no_reads, \"\\nNumber of reads with mapping quality 0\", zero_mq,\n",
        "      \"\\nAverage mapping quality for all the reads\", avg_mq, \"\\nAverage mapping quality if reads with 0 mapp quality are filtered out\", non_zero_avg_mq)"
      ],
      "metadata": {
        "colab": {
          "base_uri": "https://localhost:8080/"
        },
        "id": "sN2oH2QcCT-d",
        "outputId": "2530a4cb-f513-425e-fada-2d10bcb87272"
      },
      "execution_count": 27,
      "outputs": [
        {
          "output_type": "stream",
          "name": "stdout",
          "text": [
            "\n",
            "How many unmapped reads are in the file? 17132 \n",
            "Total number of reads 2793136 \n",
            "Number of reads with mapping quality 0 111149 \n",
            "Average mapping quality for all the reads 56.376808003620305 \n",
            "Average mapping quality if reads with 0 mapp quality are filtered out 58.71321971359294\n"
          ]
        }
      ]
    },
    {
      "cell_type": "code",
      "source": [],
      "metadata": {
        "id": "9PEGH6-REyeV"
      },
      "execution_count": null,
      "outputs": []
    }
  ]
}